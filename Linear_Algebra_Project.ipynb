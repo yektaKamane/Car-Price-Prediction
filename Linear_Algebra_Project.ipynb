{
  "nbformat": 4,
  "nbformat_minor": 0,
  "metadata": {
    "colab": {
      "name": "Linear Algebra Project",
      "provenance": [],
      "collapsed_sections": [],
      "toc_visible": true
    },
    "kernelspec": {
      "name": "python3",
      "display_name": "Python 3"
    },
    "language_info": {
      "name": "python"
    }
  },
  "cells": [
    {
      "cell_type": "markdown",
      "source": [
        "# Import libraries"
      ],
      "metadata": {
        "id": "hfB3mzpL8ULm"
      }
    },
    {
      "cell_type": "code",
      "execution_count": 1,
      "metadata": {
        "id": "pPE2bm4L7c6i"
      },
      "outputs": [],
      "source": [
        "import numpy as np\n",
        "import pandas as pd"
      ]
    },
    {
      "cell_type": "markdown",
      "source": [
        "# Import dataset"
      ],
      "metadata": {
        "id": "EFM37NjX8YI-"
      }
    },
    {
      "cell_type": "code",
      "source": [
        "dataset = pd.read_csv('cars.csv')\n",
        "# Remove entries with NAN values\n",
        "dataset = dataset.dropna()"
      ],
      "metadata": {
        "id": "pIKLRnER7siJ"
      },
      "execution_count": 6,
      "outputs": []
    },
    {
      "cell_type": "code",
      "source": [
        "dataset.head()"
      ],
      "metadata": {
        "colab": {
          "base_uri": "https://localhost:8080/",
          "height": 374
        },
        "id": "WbjXTQNW8hBm",
        "outputId": "88234f69-a454-4a59-faf0-d4aaa2890834"
      },
      "execution_count": 7,
      "outputs": [
        {
          "output_type": "execute_result",
          "data": {
            "text/plain": [
              "                        _id  acceleration body_color  body_status  \\\n",
              "0  62c020245ac6166d04f27483           9.7       سفید  گلگیر تعویض   \n",
              "1  62c020245ac6166d04f27484          11.1       سفید   یک لکه رنگ   \n",
              "2  62c020245ac6166d04f27485           9.2       سفید     بدون رنگ   \n",
              "3  62c020245ac6166d04f27486          11.6  سفید صدفی   یک لکه رنگ   \n",
              "4  62c020245ac6166d04f27487          11.3  نوک مدادی  گلگیر تعویض   \n",
              "\n",
              "       body_type    brand                       engine  fuel_consumption  \\\n",
              "0  passenger_car       mg          4 سیلندر توربوشارژ                6.9   \n",
              "1      crossover      kia                4 سیلندر GDI                8.8   \n",
              "2      crossover    lexus  4 سیلندر با موتور الکتریکی                5.1   \n",
              "3           None  peugeot                4 سیلندر TU5                6.6   \n",
              "4           None      kia                    4 سیلندر                7.0   \n",
              "\n",
              "  fuel_type inside_color   mileage     model       price  \\\n",
              "0    بنزینی         مشکی   98000.0       360   450000000   \n",
              "1    بنزینی         مشکی  111000.0   sorento  2050000000   \n",
              "2   هیبریدی    سفید صدفی   18000.0  nxhybrid  4300000000   \n",
              "3    بنزینی         مشکی   70000.0       207   350000000   \n",
              "4    بنزینی         طوسی  230000.0     rioir   189000000   \n",
              "\n",
              "                                                 url  volume  year  \n",
              "0  https://bama.ir/car/detail-yef9zxzr-mg-360-att...     1.5  2018  \n",
              "1  https://bama.ir/car/detail-ob1tf9i3-kia-sorent...     2.4  2015  \n",
              "2  https://bama.ir/car/detail-2xy9brk9-lexus-nxhy...     2.5  2017  \n",
              "3  https://bama.ir/car/detail-xx8wmki9-peugeot-20...     1.6  2020  \n",
              "4  https://bama.ir/car/detail-dxwsqo-kia-rioir-mt...     1.5  2008  "
            ],
            "text/html": [
              "\n",
              "  <div id=\"df-c7858656-f46d-4c25-a6bb-961b4551e5b3\">\n",
              "    <div class=\"colab-df-container\">\n",
              "      <div>\n",
              "<style scoped>\n",
              "    .dataframe tbody tr th:only-of-type {\n",
              "        vertical-align: middle;\n",
              "    }\n",
              "\n",
              "    .dataframe tbody tr th {\n",
              "        vertical-align: top;\n",
              "    }\n",
              "\n",
              "    .dataframe thead th {\n",
              "        text-align: right;\n",
              "    }\n",
              "</style>\n",
              "<table border=\"1\" class=\"dataframe\">\n",
              "  <thead>\n",
              "    <tr style=\"text-align: right;\">\n",
              "      <th></th>\n",
              "      <th>_id</th>\n",
              "      <th>acceleration</th>\n",
              "      <th>body_color</th>\n",
              "      <th>body_status</th>\n",
              "      <th>body_type</th>\n",
              "      <th>brand</th>\n",
              "      <th>engine</th>\n",
              "      <th>fuel_consumption</th>\n",
              "      <th>fuel_type</th>\n",
              "      <th>inside_color</th>\n",
              "      <th>mileage</th>\n",
              "      <th>model</th>\n",
              "      <th>price</th>\n",
              "      <th>url</th>\n",
              "      <th>volume</th>\n",
              "      <th>year</th>\n",
              "    </tr>\n",
              "  </thead>\n",
              "  <tbody>\n",
              "    <tr>\n",
              "      <th>0</th>\n",
              "      <td>62c020245ac6166d04f27483</td>\n",
              "      <td>9.7</td>\n",
              "      <td>سفید</td>\n",
              "      <td>گلگیر تعویض</td>\n",
              "      <td>passenger_car</td>\n",
              "      <td>mg</td>\n",
              "      <td>4 سیلندر توربوشارژ</td>\n",
              "      <td>6.9</td>\n",
              "      <td>بنزینی</td>\n",
              "      <td>مشکی</td>\n",
              "      <td>98000.0</td>\n",
              "      <td>360</td>\n",
              "      <td>450000000</td>\n",
              "      <td>https://bama.ir/car/detail-yef9zxzr-mg-360-att...</td>\n",
              "      <td>1.5</td>\n",
              "      <td>2018</td>\n",
              "    </tr>\n",
              "    <tr>\n",
              "      <th>1</th>\n",
              "      <td>62c020245ac6166d04f27484</td>\n",
              "      <td>11.1</td>\n",
              "      <td>سفید</td>\n",
              "      <td>یک لکه رنگ</td>\n",
              "      <td>crossover</td>\n",
              "      <td>kia</td>\n",
              "      <td>4 سیلندر GDI</td>\n",
              "      <td>8.8</td>\n",
              "      <td>بنزینی</td>\n",
              "      <td>مشکی</td>\n",
              "      <td>111000.0</td>\n",
              "      <td>sorento</td>\n",
              "      <td>2050000000</td>\n",
              "      <td>https://bama.ir/car/detail-ob1tf9i3-kia-sorent...</td>\n",
              "      <td>2.4</td>\n",
              "      <td>2015</td>\n",
              "    </tr>\n",
              "    <tr>\n",
              "      <th>2</th>\n",
              "      <td>62c020245ac6166d04f27485</td>\n",
              "      <td>9.2</td>\n",
              "      <td>سفید</td>\n",
              "      <td>بدون رنگ</td>\n",
              "      <td>crossover</td>\n",
              "      <td>lexus</td>\n",
              "      <td>4 سیلندر با موتور الکتریکی</td>\n",
              "      <td>5.1</td>\n",
              "      <td>هیبریدی</td>\n",
              "      <td>سفید صدفی</td>\n",
              "      <td>18000.0</td>\n",
              "      <td>nxhybrid</td>\n",
              "      <td>4300000000</td>\n",
              "      <td>https://bama.ir/car/detail-2xy9brk9-lexus-nxhy...</td>\n",
              "      <td>2.5</td>\n",
              "      <td>2017</td>\n",
              "    </tr>\n",
              "    <tr>\n",
              "      <th>3</th>\n",
              "      <td>62c020245ac6166d04f27486</td>\n",
              "      <td>11.6</td>\n",
              "      <td>سفید صدفی</td>\n",
              "      <td>یک لکه رنگ</td>\n",
              "      <td>None</td>\n",
              "      <td>peugeot</td>\n",
              "      <td>4 سیلندر TU5</td>\n",
              "      <td>6.6</td>\n",
              "      <td>بنزینی</td>\n",
              "      <td>مشکی</td>\n",
              "      <td>70000.0</td>\n",
              "      <td>207</td>\n",
              "      <td>350000000</td>\n",
              "      <td>https://bama.ir/car/detail-xx8wmki9-peugeot-20...</td>\n",
              "      <td>1.6</td>\n",
              "      <td>2020</td>\n",
              "    </tr>\n",
              "    <tr>\n",
              "      <th>4</th>\n",
              "      <td>62c020245ac6166d04f27487</td>\n",
              "      <td>11.3</td>\n",
              "      <td>نوک مدادی</td>\n",
              "      <td>گلگیر تعویض</td>\n",
              "      <td>None</td>\n",
              "      <td>kia</td>\n",
              "      <td>4 سیلندر</td>\n",
              "      <td>7.0</td>\n",
              "      <td>بنزینی</td>\n",
              "      <td>طوسی</td>\n",
              "      <td>230000.0</td>\n",
              "      <td>rioir</td>\n",
              "      <td>189000000</td>\n",
              "      <td>https://bama.ir/car/detail-dxwsqo-kia-rioir-mt...</td>\n",
              "      <td>1.5</td>\n",
              "      <td>2008</td>\n",
              "    </tr>\n",
              "  </tbody>\n",
              "</table>\n",
              "</div>\n",
              "      <button class=\"colab-df-convert\" onclick=\"convertToInteractive('df-c7858656-f46d-4c25-a6bb-961b4551e5b3')\"\n",
              "              title=\"Convert this dataframe to an interactive table.\"\n",
              "              style=\"display:none;\">\n",
              "        \n",
              "  <svg xmlns=\"http://www.w3.org/2000/svg\" height=\"24px\"viewBox=\"0 0 24 24\"\n",
              "       width=\"24px\">\n",
              "    <path d=\"M0 0h24v24H0V0z\" fill=\"none\"/>\n",
              "    <path d=\"M18.56 5.44l.94 2.06.94-2.06 2.06-.94-2.06-.94-.94-2.06-.94 2.06-2.06.94zm-11 1L8.5 8.5l.94-2.06 2.06-.94-2.06-.94L8.5 2.5l-.94 2.06-2.06.94zm10 10l.94 2.06.94-2.06 2.06-.94-2.06-.94-.94-2.06-.94 2.06-2.06.94z\"/><path d=\"M17.41 7.96l-1.37-1.37c-.4-.4-.92-.59-1.43-.59-.52 0-1.04.2-1.43.59L10.3 9.45l-7.72 7.72c-.78.78-.78 2.05 0 2.83L4 21.41c.39.39.9.59 1.41.59.51 0 1.02-.2 1.41-.59l7.78-7.78 2.81-2.81c.8-.78.8-2.07 0-2.86zM5.41 20L4 18.59l7.72-7.72 1.47 1.35L5.41 20z\"/>\n",
              "  </svg>\n",
              "      </button>\n",
              "      \n",
              "  <style>\n",
              "    .colab-df-container {\n",
              "      display:flex;\n",
              "      flex-wrap:wrap;\n",
              "      gap: 12px;\n",
              "    }\n",
              "\n",
              "    .colab-df-convert {\n",
              "      background-color: #E8F0FE;\n",
              "      border: none;\n",
              "      border-radius: 50%;\n",
              "      cursor: pointer;\n",
              "      display: none;\n",
              "      fill: #1967D2;\n",
              "      height: 32px;\n",
              "      padding: 0 0 0 0;\n",
              "      width: 32px;\n",
              "    }\n",
              "\n",
              "    .colab-df-convert:hover {\n",
              "      background-color: #E2EBFA;\n",
              "      box-shadow: 0px 1px 2px rgba(60, 64, 67, 0.3), 0px 1px 3px 1px rgba(60, 64, 67, 0.15);\n",
              "      fill: #174EA6;\n",
              "    }\n",
              "\n",
              "    [theme=dark] .colab-df-convert {\n",
              "      background-color: #3B4455;\n",
              "      fill: #D2E3FC;\n",
              "    }\n",
              "\n",
              "    [theme=dark] .colab-df-convert:hover {\n",
              "      background-color: #434B5C;\n",
              "      box-shadow: 0px 1px 3px 1px rgba(0, 0, 0, 0.15);\n",
              "      filter: drop-shadow(0px 1px 2px rgba(0, 0, 0, 0.3));\n",
              "      fill: #FFFFFF;\n",
              "    }\n",
              "  </style>\n",
              "\n",
              "      <script>\n",
              "        const buttonEl =\n",
              "          document.querySelector('#df-c7858656-f46d-4c25-a6bb-961b4551e5b3 button.colab-df-convert');\n",
              "        buttonEl.style.display =\n",
              "          google.colab.kernel.accessAllowed ? 'block' : 'none';\n",
              "\n",
              "        async function convertToInteractive(key) {\n",
              "          const element = document.querySelector('#df-c7858656-f46d-4c25-a6bb-961b4551e5b3');\n",
              "          const dataTable =\n",
              "            await google.colab.kernel.invokeFunction('convertToInteractive',\n",
              "                                                     [key], {});\n",
              "          if (!dataTable) return;\n",
              "\n",
              "          const docLinkHtml = 'Like what you see? Visit the ' +\n",
              "            '<a target=\"_blank\" href=https://colab.research.google.com/notebooks/data_table.ipynb>data table notebook</a>'\n",
              "            + ' to learn more about interactive tables.';\n",
              "          element.innerHTML = '';\n",
              "          dataTable['output_type'] = 'display_data';\n",
              "          await google.colab.output.renderOutput(dataTable, element);\n",
              "          const docLink = document.createElement('div');\n",
              "          docLink.innerHTML = docLinkHtml;\n",
              "          element.appendChild(docLink);\n",
              "        }\n",
              "      </script>\n",
              "    </div>\n",
              "  </div>\n",
              "  "
            ]
          },
          "metadata": {},
          "execution_count": 7
        }
      ]
    },
    {
      "cell_type": "markdown",
      "source": [
        "# Define X and Y"
      ],
      "metadata": {
        "id": "BVDdvH5o8tSn"
      }
    },
    {
      "cell_type": "code",
      "source": [
        "X = dataset.drop(['price', 'url', '_id'], axis=1)\n",
        "Y = dataset['price'].values"
      ],
      "metadata": {
        "id": "s7alHc9r8wVi"
      },
      "execution_count": 8,
      "outputs": []
    },
    {
      "cell_type": "code",
      "source": [
        "X"
      ],
      "metadata": {
        "colab": {
          "base_uri": "https://localhost:8080/",
          "height": 730
        },
        "id": "ugGLJEiS9NYx",
        "outputId": "1673bd05-ee91-4942-8f57-d4090a6e06fc"
      },
      "execution_count": 11,
      "outputs": [
        {
          "output_type": "execute_result",
          "data": {
            "text/plain": [
              "       acceleration body_color  body_status      body_type    brand  \\\n",
              "0               9.7       سفید  گلگیر تعویض  passenger_car       mg   \n",
              "1              11.1       سفید   یک لکه رنگ      crossover      kia   \n",
              "2               9.2       سفید     بدون رنگ      crossover    lexus   \n",
              "3              11.6  سفید صدفی   یک لکه رنگ           None  peugeot   \n",
              "4              11.3  نوک مدادی  گلگیر تعویض           None      kia   \n",
              "...             ...        ...          ...            ...      ...   \n",
              "18348          15.5        کرم     بدون رنگ         pickup    amico   \n",
              "18349          10.5       مشکی     بدون رنگ      crossover    haima   \n",
              "18350          13.0       سفید     بدون رنگ  passenger_car     tiba   \n",
              "18352           6.9    نقره ای     بدون رنگ      crossover    volvo   \n",
              "18353           6.4       سفید   دو لکه رنگ      crossover      bmw   \n",
              "\n",
              "                                  engine  fuel_consumption   fuel_type  \\\n",
              "0                    4 سیلندر توربوشارژ                6.9      بنزینی   \n",
              "1                          4 سیلندر GDI                8.8      بنزینی   \n",
              "2            4 سیلندر با موتور الکتریکی                5.1     هیبریدی   \n",
              "3                          4 سیلندر TU5                6.6      بنزینی   \n",
              "4                              4 سیلندر                7.0      بنزینی   \n",
              "...                                  ...               ...         ...   \n",
              "18348        4 سیلندر دوگانه سوز (4G69)               10.7  دوگانه سوز   \n",
              "18349                4 سیلندر توربوشارژ                9.7      بنزینی   \n",
              "18350                      4 سیلندر M15                6.9      بنزینی   \n",
              "18352  4 سیلندر توربوشارژ و سوپرشارژ T6                7.7      بنزینی   \n",
              "18353       4 سیلندر توربوشارژ (N20B20)                7.4      بنزینی   \n",
              "\n",
              "      inside_color   mileage      model  volume  year  \n",
              "0             مشکی   98000.0        360     1.5  2018  \n",
              "1             مشکی  111000.0    sorento     2.4  2015  \n",
              "2        سفید صدفی   18000.0   nxhybrid     2.5  2017  \n",
              "3             مشکی   70000.0        207     1.6  2020  \n",
              "4             طوسی  230000.0      rioir     1.5  2008  \n",
              "...            ...       ...        ...     ...   ...  \n",
              "18348         مشکی       0.0  asna4door     2.4  2021  \n",
              "18349        مارون       0.0         s7     1.8  2020  \n",
              "18350      خاکستری       0.0      sedan     1.5  2020  \n",
              "18352          کرم  120000.0       xc90     2.0  2016  \n",
              "18353         موکا   50000.0         x4     2.0  2016  \n",
              "\n",
              "[16672 rows x 13 columns]"
            ],
            "text/html": [
              "\n",
              "  <div id=\"df-1e1b3e1b-fecf-4b02-bcc0-1750099fb314\">\n",
              "    <div class=\"colab-df-container\">\n",
              "      <div>\n",
              "<style scoped>\n",
              "    .dataframe tbody tr th:only-of-type {\n",
              "        vertical-align: middle;\n",
              "    }\n",
              "\n",
              "    .dataframe tbody tr th {\n",
              "        vertical-align: top;\n",
              "    }\n",
              "\n",
              "    .dataframe thead th {\n",
              "        text-align: right;\n",
              "    }\n",
              "</style>\n",
              "<table border=\"1\" class=\"dataframe\">\n",
              "  <thead>\n",
              "    <tr style=\"text-align: right;\">\n",
              "      <th></th>\n",
              "      <th>acceleration</th>\n",
              "      <th>body_color</th>\n",
              "      <th>body_status</th>\n",
              "      <th>body_type</th>\n",
              "      <th>brand</th>\n",
              "      <th>engine</th>\n",
              "      <th>fuel_consumption</th>\n",
              "      <th>fuel_type</th>\n",
              "      <th>inside_color</th>\n",
              "      <th>mileage</th>\n",
              "      <th>model</th>\n",
              "      <th>volume</th>\n",
              "      <th>year</th>\n",
              "    </tr>\n",
              "  </thead>\n",
              "  <tbody>\n",
              "    <tr>\n",
              "      <th>0</th>\n",
              "      <td>9.7</td>\n",
              "      <td>سفید</td>\n",
              "      <td>گلگیر تعویض</td>\n",
              "      <td>passenger_car</td>\n",
              "      <td>mg</td>\n",
              "      <td>4 سیلندر توربوشارژ</td>\n",
              "      <td>6.9</td>\n",
              "      <td>بنزینی</td>\n",
              "      <td>مشکی</td>\n",
              "      <td>98000.0</td>\n",
              "      <td>360</td>\n",
              "      <td>1.5</td>\n",
              "      <td>2018</td>\n",
              "    </tr>\n",
              "    <tr>\n",
              "      <th>1</th>\n",
              "      <td>11.1</td>\n",
              "      <td>سفید</td>\n",
              "      <td>یک لکه رنگ</td>\n",
              "      <td>crossover</td>\n",
              "      <td>kia</td>\n",
              "      <td>4 سیلندر GDI</td>\n",
              "      <td>8.8</td>\n",
              "      <td>بنزینی</td>\n",
              "      <td>مشکی</td>\n",
              "      <td>111000.0</td>\n",
              "      <td>sorento</td>\n",
              "      <td>2.4</td>\n",
              "      <td>2015</td>\n",
              "    </tr>\n",
              "    <tr>\n",
              "      <th>2</th>\n",
              "      <td>9.2</td>\n",
              "      <td>سفید</td>\n",
              "      <td>بدون رنگ</td>\n",
              "      <td>crossover</td>\n",
              "      <td>lexus</td>\n",
              "      <td>4 سیلندر با موتور الکتریکی</td>\n",
              "      <td>5.1</td>\n",
              "      <td>هیبریدی</td>\n",
              "      <td>سفید صدفی</td>\n",
              "      <td>18000.0</td>\n",
              "      <td>nxhybrid</td>\n",
              "      <td>2.5</td>\n",
              "      <td>2017</td>\n",
              "    </tr>\n",
              "    <tr>\n",
              "      <th>3</th>\n",
              "      <td>11.6</td>\n",
              "      <td>سفید صدفی</td>\n",
              "      <td>یک لکه رنگ</td>\n",
              "      <td>None</td>\n",
              "      <td>peugeot</td>\n",
              "      <td>4 سیلندر TU5</td>\n",
              "      <td>6.6</td>\n",
              "      <td>بنزینی</td>\n",
              "      <td>مشکی</td>\n",
              "      <td>70000.0</td>\n",
              "      <td>207</td>\n",
              "      <td>1.6</td>\n",
              "      <td>2020</td>\n",
              "    </tr>\n",
              "    <tr>\n",
              "      <th>4</th>\n",
              "      <td>11.3</td>\n",
              "      <td>نوک مدادی</td>\n",
              "      <td>گلگیر تعویض</td>\n",
              "      <td>None</td>\n",
              "      <td>kia</td>\n",
              "      <td>4 سیلندر</td>\n",
              "      <td>7.0</td>\n",
              "      <td>بنزینی</td>\n",
              "      <td>طوسی</td>\n",
              "      <td>230000.0</td>\n",
              "      <td>rioir</td>\n",
              "      <td>1.5</td>\n",
              "      <td>2008</td>\n",
              "    </tr>\n",
              "    <tr>\n",
              "      <th>...</th>\n",
              "      <td>...</td>\n",
              "      <td>...</td>\n",
              "      <td>...</td>\n",
              "      <td>...</td>\n",
              "      <td>...</td>\n",
              "      <td>...</td>\n",
              "      <td>...</td>\n",
              "      <td>...</td>\n",
              "      <td>...</td>\n",
              "      <td>...</td>\n",
              "      <td>...</td>\n",
              "      <td>...</td>\n",
              "      <td>...</td>\n",
              "    </tr>\n",
              "    <tr>\n",
              "      <th>18348</th>\n",
              "      <td>15.5</td>\n",
              "      <td>کرم</td>\n",
              "      <td>بدون رنگ</td>\n",
              "      <td>pickup</td>\n",
              "      <td>amico</td>\n",
              "      <td>4 سیلندر دوگانه سوز (4G69)</td>\n",
              "      <td>10.7</td>\n",
              "      <td>دوگانه سوز</td>\n",
              "      <td>مشکی</td>\n",
              "      <td>0.0</td>\n",
              "      <td>asna4door</td>\n",
              "      <td>2.4</td>\n",
              "      <td>2021</td>\n",
              "    </tr>\n",
              "    <tr>\n",
              "      <th>18349</th>\n",
              "      <td>10.5</td>\n",
              "      <td>مشکی</td>\n",
              "      <td>بدون رنگ</td>\n",
              "      <td>crossover</td>\n",
              "      <td>haima</td>\n",
              "      <td>4 سیلندر توربوشارژ</td>\n",
              "      <td>9.7</td>\n",
              "      <td>بنزینی</td>\n",
              "      <td>مارون</td>\n",
              "      <td>0.0</td>\n",
              "      <td>s7</td>\n",
              "      <td>1.8</td>\n",
              "      <td>2020</td>\n",
              "    </tr>\n",
              "    <tr>\n",
              "      <th>18350</th>\n",
              "      <td>13.0</td>\n",
              "      <td>سفید</td>\n",
              "      <td>بدون رنگ</td>\n",
              "      <td>passenger_car</td>\n",
              "      <td>tiba</td>\n",
              "      <td>4 سیلندر M15</td>\n",
              "      <td>6.9</td>\n",
              "      <td>بنزینی</td>\n",
              "      <td>خاکستری</td>\n",
              "      <td>0.0</td>\n",
              "      <td>sedan</td>\n",
              "      <td>1.5</td>\n",
              "      <td>2020</td>\n",
              "    </tr>\n",
              "    <tr>\n",
              "      <th>18352</th>\n",
              "      <td>6.9</td>\n",
              "      <td>نقره ای</td>\n",
              "      <td>بدون رنگ</td>\n",
              "      <td>crossover</td>\n",
              "      <td>volvo</td>\n",
              "      <td>4 سیلندر توربوشارژ و سوپرشارژ T6</td>\n",
              "      <td>7.7</td>\n",
              "      <td>بنزینی</td>\n",
              "      <td>کرم</td>\n",
              "      <td>120000.0</td>\n",
              "      <td>xc90</td>\n",
              "      <td>2.0</td>\n",
              "      <td>2016</td>\n",
              "    </tr>\n",
              "    <tr>\n",
              "      <th>18353</th>\n",
              "      <td>6.4</td>\n",
              "      <td>سفید</td>\n",
              "      <td>دو لکه رنگ</td>\n",
              "      <td>crossover</td>\n",
              "      <td>bmw</td>\n",
              "      <td>4 سیلندر توربوشارژ (N20B20)</td>\n",
              "      <td>7.4</td>\n",
              "      <td>بنزینی</td>\n",
              "      <td>موکا</td>\n",
              "      <td>50000.0</td>\n",
              "      <td>x4</td>\n",
              "      <td>2.0</td>\n",
              "      <td>2016</td>\n",
              "    </tr>\n",
              "  </tbody>\n",
              "</table>\n",
              "<p>16672 rows × 13 columns</p>\n",
              "</div>\n",
              "      <button class=\"colab-df-convert\" onclick=\"convertToInteractive('df-1e1b3e1b-fecf-4b02-bcc0-1750099fb314')\"\n",
              "              title=\"Convert this dataframe to an interactive table.\"\n",
              "              style=\"display:none;\">\n",
              "        \n",
              "  <svg xmlns=\"http://www.w3.org/2000/svg\" height=\"24px\"viewBox=\"0 0 24 24\"\n",
              "       width=\"24px\">\n",
              "    <path d=\"M0 0h24v24H0V0z\" fill=\"none\"/>\n",
              "    <path d=\"M18.56 5.44l.94 2.06.94-2.06 2.06-.94-2.06-.94-.94-2.06-.94 2.06-2.06.94zm-11 1L8.5 8.5l.94-2.06 2.06-.94-2.06-.94L8.5 2.5l-.94 2.06-2.06.94zm10 10l.94 2.06.94-2.06 2.06-.94-2.06-.94-.94-2.06-.94 2.06-2.06.94z\"/><path d=\"M17.41 7.96l-1.37-1.37c-.4-.4-.92-.59-1.43-.59-.52 0-1.04.2-1.43.59L10.3 9.45l-7.72 7.72c-.78.78-.78 2.05 0 2.83L4 21.41c.39.39.9.59 1.41.59.51 0 1.02-.2 1.41-.59l7.78-7.78 2.81-2.81c.8-.78.8-2.07 0-2.86zM5.41 20L4 18.59l7.72-7.72 1.47 1.35L5.41 20z\"/>\n",
              "  </svg>\n",
              "      </button>\n",
              "      \n",
              "  <style>\n",
              "    .colab-df-container {\n",
              "      display:flex;\n",
              "      flex-wrap:wrap;\n",
              "      gap: 12px;\n",
              "    }\n",
              "\n",
              "    .colab-df-convert {\n",
              "      background-color: #E8F0FE;\n",
              "      border: none;\n",
              "      border-radius: 50%;\n",
              "      cursor: pointer;\n",
              "      display: none;\n",
              "      fill: #1967D2;\n",
              "      height: 32px;\n",
              "      padding: 0 0 0 0;\n",
              "      width: 32px;\n",
              "    }\n",
              "\n",
              "    .colab-df-convert:hover {\n",
              "      background-color: #E2EBFA;\n",
              "      box-shadow: 0px 1px 2px rgba(60, 64, 67, 0.3), 0px 1px 3px 1px rgba(60, 64, 67, 0.15);\n",
              "      fill: #174EA6;\n",
              "    }\n",
              "\n",
              "    [theme=dark] .colab-df-convert {\n",
              "      background-color: #3B4455;\n",
              "      fill: #D2E3FC;\n",
              "    }\n",
              "\n",
              "    [theme=dark] .colab-df-convert:hover {\n",
              "      background-color: #434B5C;\n",
              "      box-shadow: 0px 1px 3px 1px rgba(0, 0, 0, 0.15);\n",
              "      filter: drop-shadow(0px 1px 2px rgba(0, 0, 0, 0.3));\n",
              "      fill: #FFFFFF;\n",
              "    }\n",
              "  </style>\n",
              "\n",
              "      <script>\n",
              "        const buttonEl =\n",
              "          document.querySelector('#df-1e1b3e1b-fecf-4b02-bcc0-1750099fb314 button.colab-df-convert');\n",
              "        buttonEl.style.display =\n",
              "          google.colab.kernel.accessAllowed ? 'block' : 'none';\n",
              "\n",
              "        async function convertToInteractive(key) {\n",
              "          const element = document.querySelector('#df-1e1b3e1b-fecf-4b02-bcc0-1750099fb314');\n",
              "          const dataTable =\n",
              "            await google.colab.kernel.invokeFunction('convertToInteractive',\n",
              "                                                     [key], {});\n",
              "          if (!dataTable) return;\n",
              "\n",
              "          const docLinkHtml = 'Like what you see? Visit the ' +\n",
              "            '<a target=\"_blank\" href=https://colab.research.google.com/notebooks/data_table.ipynb>data table notebook</a>'\n",
              "            + ' to learn more about interactive tables.';\n",
              "          element.innerHTML = '';\n",
              "          dataTable['output_type'] = 'display_data';\n",
              "          await google.colab.output.renderOutput(dataTable, element);\n",
              "          const docLink = document.createElement('div');\n",
              "          docLink.innerHTML = docLinkHtml;\n",
              "          element.appendChild(docLink);\n",
              "        }\n",
              "      </script>\n",
              "    </div>\n",
              "  </div>\n",
              "  "
            ]
          },
          "metadata": {},
          "execution_count": 11
        }
      ]
    },
    {
      "cell_type": "code",
      "source": [
        "print(Y)"
      ],
      "metadata": {
        "colab": {
          "base_uri": "https://localhost:8080/"
        },
        "id": "LavnTeo09h9j",
        "outputId": "6f058d18-a967-4152-986f-9c276dd5de53"
      },
      "execution_count": 14,
      "outputs": [
        {
          "output_type": "stream",
          "name": "stdout",
          "text": [
            "[ 450000000 2050000000 4300000000 ...  185000000 3800000000 3250000000]\n"
          ]
        }
      ]
    },
    {
      "cell_type": "markdown",
      "source": [
        "# Spliting non-numerical and numerical data of X"
      ],
      "metadata": {
        "id": "JaJZqTv1VVwS"
      }
    },
    {
      "cell_type": "code",
      "source": [
        "numeric_x = X.drop(['body_color', 'body_status', 'body_type', 'brand', 'engine', 'fuel_type', 'inside_color', 'model'], axis=1).values\n",
        "non_numeric_x = X[['body_color', 'body_status', 'body_type', 'brand', 'engine', 'fuel_type', 'inside_color', 'model']].values\n",
        "\n",
        "# print(numeric_x)\n",
        "print(non_numeric_x)"
      ],
      "metadata": {
        "colab": {
          "base_uri": "https://localhost:8080/"
        },
        "id": "moNnmzwMf92j",
        "outputId": "c40826be-9330-418b-8d0d-1a1e22b408db"
      },
      "execution_count": 15,
      "outputs": [
        {
          "output_type": "stream",
          "name": "stdout",
          "text": [
            "[['سفید' 'گلگیر تعویض' 'passenger_car' ... 'بنزینی' 'مشکی' '360']\n",
            " ['سفید' 'یک لکه رنگ' 'crossover' ... 'بنزینی' 'مشکی' 'sorento']\n",
            " ['سفید' 'بدون رنگ' 'crossover' ... 'هیبریدی' 'سفید صدفی' 'nxhybrid']\n",
            " ...\n",
            " ['سفید' 'بدون رنگ' 'passenger_car' ... 'بنزینی' 'خاکستری' 'sedan']\n",
            " ['نقره ای' 'بدون رنگ' 'crossover' ... 'بنزینی' 'کرم' 'xc90']\n",
            " ['سفید' 'دو لکه رنگ' 'crossover' ... 'بنزینی' 'موکا' 'x4']]\n"
          ]
        }
      ]
    },
    {
      "cell_type": "markdown",
      "source": [
        "\n",
        "# Encodingn non-numerical data to numeric"
      ],
      "metadata": {
        "id": "aZJdk3MOhJsZ"
      }
    },
    {
      "cell_type": "code",
      "source": [
        "from sklearn import preprocessing\n",
        "le = preprocessing.LabelEncoder()\n",
        "\n",
        "# Transpose the matrix\n",
        "x = np.matrix(non_numeric_x)\n",
        "x_t = x.transpose()\n",
        "\n",
        "encoded_features = []\n",
        "for feature in x_t:\n",
        "    # flatten the 2d array into 1d\n",
        "    rowTmp = np.ravel(feature)\n",
        "    le.fit(rowTmp)\n",
        "    transform = le.transform(rowTmp)\n",
        "    encoded_features.append(transform)\n",
        "\n",
        "new_non_numeric_x = np.asarray(encoded_features).transpose()"
      ],
      "metadata": {
        "id": "B3seeMxgSWBt"
      },
      "execution_count": 24,
      "outputs": []
    },
    {
      "cell_type": "code",
      "source": [
        "print(new_non_numeric_x)"
      ],
      "metadata": {
        "colab": {
          "base_uri": "https://localhost:8080/"
        },
        "id": "WGk4dzL6d0wI",
        "outputId": "440a9150-5385-497a-9027-529e90315442"
      },
      "execution_count": 25,
      "outputs": [
        {
          "output_type": "stream",
          "name": "stdout",
          "text": [
            "[[ 18  13   5 ...   0  16  24]\n",
            " [ 18  16   3 ...   0  16 230]\n",
            " [ 18   1   3 ...   3   9 181]\n",
            " ...\n",
            " [ 18   1   5 ...   0   2 224]\n",
            " [ 30   1   3 ...   0  21 270]\n",
            " [ 18   5   3 ...   0  17 260]]\n"
          ]
        }
      ]
    },
    {
      "cell_type": "markdown",
      "source": [
        "# Merging the two parts of X"
      ],
      "metadata": {
        "id": "oCX9wbJMk7vZ"
      }
    },
    {
      "cell_type": "code",
      "source": [
        "merged_x = np.concatenate((numeric_x, new_non_numeric_x), axis=1)\n",
        "print(merged_x)"
      ],
      "metadata": {
        "colab": {
          "base_uri": "https://localhost:8080/"
        },
        "id": "rYQeLX4Jk6Ba",
        "outputId": "5663ce11-04ec-48ef-a1ca-c703e6d50c73"
      },
      "execution_count": 26,
      "outputs": [
        {
          "output_type": "stream",
          "name": "stdout",
          "text": [
            "[[9.70e+00 6.90e+00 9.80e+04 ... 0.00e+00 1.60e+01 2.40e+01]\n",
            " [1.11e+01 8.80e+00 1.11e+05 ... 0.00e+00 1.60e+01 2.30e+02]\n",
            " [9.20e+00 5.10e+00 1.80e+04 ... 3.00e+00 9.00e+00 1.81e+02]\n",
            " ...\n",
            " [1.30e+01 6.90e+00 0.00e+00 ... 0.00e+00 2.00e+00 2.24e+02]\n",
            " [6.90e+00 7.70e+00 1.20e+05 ... 0.00e+00 2.10e+01 2.70e+02]\n",
            " [6.40e+00 7.40e+00 5.00e+04 ... 0.00e+00 1.70e+01 2.60e+02]]\n"
          ]
        }
      ]
    },
    {
      "cell_type": "markdown",
      "source": [
        "# Normalize X "
      ],
      "metadata": {
        "id": "31ZoC-hRmbvz"
      }
    },
    {
      "cell_type": "code",
      "source": [
        "normalized_x = preprocessing.normalize(merged_x, axis=0, norm='l1')\n",
        "print(normalized_x)"
      ],
      "metadata": {
        "colab": {
          "base_uri": "https://localhost:8080/"
        },
        "id": "Z6U5ycbDmegp",
        "outputId": "f815fd42-5baf-4e66-8ae5-c9c95bd43342"
      },
      "execution_count": 27,
      "outputs": [
        {
          "output_type": "stream",
          "name": "stdout",
          "text": [
            "[[5.00763018e-05 5.48458276e-05 7.48284036e-05 ... 0.00000000e+00\n",
            "  6.26576231e-05 1.15460053e-05]\n",
            " [5.73038093e-05 6.99483018e-05 8.47546204e-05 ... 0.00000000e+00\n",
            "  6.26576231e-05 1.10649217e-04]\n",
            " [4.74950492e-05 4.05382204e-05 1.37439925e-05 ... 3.27510917e-03\n",
            "  3.52449130e-05 8.70761233e-05]\n",
            " ...\n",
            " [6.71125695e-05 5.48458276e-05 0.00000000e+00 ... 0.00000000e+00\n",
            "  7.83220289e-06 1.07762716e-04]\n",
            " [3.56212869e-05 6.12047641e-05 9.16266167e-05 ... 0.00000000e+00\n",
            "  8.22381303e-05 1.29892560e-04]\n",
            " [3.30400342e-05 5.88201629e-05 3.81777569e-05 ... 0.00000000e+00\n",
            "  6.65737245e-05 1.25081724e-04]]\n"
          ]
        }
      ]
    },
    {
      "cell_type": "markdown",
      "source": [
        "# Split the dataset into training and test"
      ],
      "metadata": {
        "id": "FYgx3Pxr_KsH"
      }
    },
    {
      "cell_type": "code",
      "source": [
        "from sklearn.model_selection import train_test_split\n",
        "x_train, x_test, y_train, y_test = train_test_split(normalized_x, Y, test_size=0.3, random_state=0)"
      ],
      "metadata": {
        "id": "4ZPtKhrv_OoQ"
      },
      "execution_count": 46,
      "outputs": []
    },
    {
      "cell_type": "code",
      "source": [
        "print(x_train)"
      ],
      "metadata": {
        "colab": {
          "base_uri": "https://localhost:8080/"
        },
        "id": "ZiL9UFfho__Y",
        "outputId": "69547380-a2d9-410b-d237-1ccd43d50150"
      },
      "execution_count": 47,
      "outputs": [
        {
          "output_type": "stream",
          "name": "stdout",
          "text": [
            "[[7.27913253e-05 5.08714923e-05 7.63555139e-10 ... 0.00000000e+00\n",
            "  4.30771159e-05 5.29191910e-06]\n",
            " [5.16250534e-05 5.80252958e-05 5.72666354e-05 ... 0.00000000e+00\n",
            "  6.26576231e-05 1.10168134e-04]\n",
            " [6.50475673e-05 5.64355617e-05 5.72666354e-05 ... 0.00000000e+00\n",
            "  4.30771159e-05 6.25408620e-06]\n",
            " ...\n",
            " [5.42063061e-05 6.27944982e-05 5.89464567e-05 ... 0.00000000e+00\n",
            "  8.22381303e-05 4.23353528e-05]\n",
            " [5.93688114e-05 6.59739665e-05 5.57395251e-05 ... 0.00000000e+00\n",
            "  6.26576231e-05 1.04876215e-04]\n",
            " [6.45313168e-05 5.72304288e-05 4.19955326e-05 ... 0.00000000e+00\n",
            "  6.65737245e-05 1.16422220e-04]]\n"
          ]
        }
      ]
    },
    {
      "cell_type": "markdown",
      "source": [
        "# Train the model on the trianing set\n",
        "\n",
        "\n",
        "\n"
      ],
      "metadata": {
        "id": "-NCiRJYJjlR_"
      }
    },
    {
      "cell_type": "code",
      "source": [
        "from sklearn.linear_model import LinearRegression\n",
        "ml = LinearRegression()\n",
        "ml.fit(x_train, y_train)"
      ],
      "metadata": {
        "colab": {
          "base_uri": "https://localhost:8080/"
        },
        "id": "Y3fv7Lq-jqEi",
        "outputId": "672066e8-9b49-48ae-9519-f2134bc2a64d"
      },
      "execution_count": 49,
      "outputs": [
        {
          "output_type": "execute_result",
          "data": {
            "text/plain": [
              "LinearRegression()"
            ]
          },
          "metadata": {},
          "execution_count": 49
        }
      ]
    },
    {
      "cell_type": "markdown",
      "source": [
        "# Predict the test set results"
      ],
      "metadata": {
        "id": "pG-bRiD9kTaz"
      }
    },
    {
      "cell_type": "code",
      "source": [
        "y_pred = ml.predict(x_test)\n",
        "print(y_pred)"
      ],
      "metadata": {
        "colab": {
          "base_uri": "https://localhost:8080/"
        },
        "id": "DR0qtOagkXiw",
        "outputId": "61b517f5-0bc6-434c-f0a9-1230b3b54eb7"
      },
      "execution_count": 50,
      "outputs": [
        {
          "output_type": "stream",
          "name": "stdout",
          "text": [
            "[1.54876452e+09 2.95244544e+08 2.42445831e+09 ... 5.21587009e+08\n",
            " 5.38024471e+08 3.38428564e+08]\n"
          ]
        }
      ]
    },
    {
      "cell_type": "markdown",
      "source": [
        "# Evaluate the model"
      ],
      "metadata": {
        "id": "1KY61izQlZjW"
      }
    },
    {
      "cell_type": "code",
      "source": [
        "from sklearn .metrics import r2_score\n",
        "r2_score(y_test, y_pred)"
      ],
      "metadata": {
        "colab": {
          "base_uri": "https://localhost:8080/"
        },
        "id": "ct91oC6wlYPT",
        "outputId": "0b1d0a93-9d0f-4192-97ab-8a7331877b2a"
      },
      "execution_count": 51,
      "outputs": [
        {
          "output_type": "execute_result",
          "data": {
            "text/plain": [
              "0.5055901867825093"
            ]
          },
          "metadata": {},
          "execution_count": 51
        }
      ]
    },
    {
      "cell_type": "markdown",
      "source": [
        "# Plot the results"
      ],
      "metadata": {
        "id": "JFQ1Wx61lt5H"
      }
    },
    {
      "cell_type": "code",
      "source": [
        "import matplotlib.pyplot as plt\n",
        "plt.figure(figsize=(10,7))\n",
        "plt.scatter(y_test, y_pred)\n",
        "plt.xlabel('Actual')\n",
        "plt.ylabel('Predicted')\n",
        "plt.title('Actual vs. Predicted')"
      ],
      "metadata": {
        "colab": {
          "base_uri": "https://localhost:8080/",
          "height": 475
        },
        "id": "FaR3gPV5lwNr",
        "outputId": "a3b656ba-82ce-43cf-c25a-a11ffe7e03ea"
      },
      "execution_count": 41,
      "outputs": [
        {
          "output_type": "execute_result",
          "data": {
            "text/plain": [
              "Text(0.5, 1.0, 'Actual vs. Predicted')"
            ]
          },
          "metadata": {},
          "execution_count": 41
        },
        {
          "output_type": "display_data",
          "data": {
            "text/plain": [
              "<Figure size 720x504 with 1 Axes>"
            ],
            "image/png": "[encoded data removed]"
          },
          "metadata": {
            "needs_background": "light"
          }
        }
      ]
    },
    {
      "cell_type": "markdown",
      "source": [
        "# Predicted Values"
      ],
      "metadata": {
        "id": "TS5AzRt0m3bl"
      }
    },
    {
      "cell_type": "code",
      "source": [
        "pred_y_df = pd.DataFrame({'Actual Value':y_test, \"Predicted Value\":y_pred, 'Difference':y_test - y_pred})\n",
        "pred_y_df[0:5]"
      ],
      "metadata": {
        "colab": {
          "base_uri": "https://localhost:8080/",
          "height": 206
        },
        "id": "HABmiKNsm7X7",
        "outputId": "d39ed834-c885-4173-9d9b-d72122e5fc6d"
      },
      "execution_count": 52,
      "outputs": [
        {
          "output_type": "execute_result",
          "data": {
            "text/plain": [
              "   Actual Value  Predicted Value    Difference\n",
              "0    2330000000     1.548765e+09  7.812355e+08\n",
              "1     199000000     2.952445e+08 -9.624454e+07\n",
              "2    1250000000     2.424458e+09 -1.174458e+09\n",
              "3     195000000     3.174211e+08 -1.224211e+08\n",
              "4    1170000000     1.346987e+09 -1.769866e+08"
            ],
            "text/html": [
              "\n",
              "  <div id=\"df-6bbcbd4e-82d5-4a1f-8a55-26277aad356f\">\n",
              "    <div class=\"colab-df-container\">\n",
              "      <div>\n",
              "<style scoped>\n",
              "    .dataframe tbody tr th:only-of-type {\n",
              "        vertical-align: middle;\n",
              "    }\n",
              "\n",
              "    .dataframe tbody tr th {\n",
              "        vertical-align: top;\n",
              "    }\n",
              "\n",
              "    .dataframe thead th {\n",
              "        text-align: right;\n",
              "    }\n",
              "</style>\n",
              "<table border=\"1\" class=\"dataframe\">\n",
              "  <thead>\n",
              "    <tr style=\"text-align: right;\">\n",
              "      <th></th>\n",
              "      <th>Actual Value</th>\n",
              "      <th>Predicted Value</th>\n",
              "      <th>Difference</th>\n",
              "    </tr>\n",
              "  </thead>\n",
              "  <tbody>\n",
              "    <tr>\n",
              "      <th>0</th>\n",
              "      <td>2330000000</td>\n",
              "      <td>1.548765e+09</td>\n",
              "      <td>7.812355e+08</td>\n",
              "    </tr>\n",
              "    <tr>\n",
              "      <th>1</th>\n",
              "      <td>199000000</td>\n",
              "      <td>2.952445e+08</td>\n",
              "      <td>-9.624454e+07</td>\n",
              "    </tr>\n",
              "    <tr>\n",
              "      <th>2</th>\n",
              "      <td>1250000000</td>\n",
              "      <td>2.424458e+09</td>\n",
              "      <td>-1.174458e+09</td>\n",
              "    </tr>\n",
              "    <tr>\n",
              "      <th>3</th>\n",
              "      <td>195000000</td>\n",
              "      <td>3.174211e+08</td>\n",
              "      <td>-1.224211e+08</td>\n",
              "    </tr>\n",
              "    <tr>\n",
              "      <th>4</th>\n",
              "      <td>1170000000</td>\n",
              "      <td>1.346987e+09</td>\n",
              "      <td>-1.769866e+08</td>\n",
              "    </tr>\n",
              "  </tbody>\n",
              "</table>\n",
              "</div>\n",
              "      <button class=\"colab-df-convert\" onclick=\"convertToInteractive('df-6bbcbd4e-82d5-4a1f-8a55-26277aad356f')\"\n",
              "              title=\"Convert this dataframe to an interactive table.\"\n",
              "              style=\"display:none;\">\n",
              "        \n",
              "  <svg xmlns=\"http://www.w3.org/2000/svg\" height=\"24px\"viewBox=\"0 0 24 24\"\n",
              "       width=\"24px\">\n",
              "    <path d=\"M0 0h24v24H0V0z\" fill=\"none\"/>\n",
              "    <path d=\"M18.56 5.44l.94 2.06.94-2.06 2.06-.94-2.06-.94-.94-2.06-.94 2.06-2.06.94zm-11 1L8.5 8.5l.94-2.06 2.06-.94-2.06-.94L8.5 2.5l-.94 2.06-2.06.94zm10 10l.94 2.06.94-2.06 2.06-.94-2.06-.94-.94-2.06-.94 2.06-2.06.94z\"/><path d=\"M17.41 7.96l-1.37-1.37c-.4-.4-.92-.59-1.43-.59-.52 0-1.04.2-1.43.59L10.3 9.45l-7.72 7.72c-.78.78-.78 2.05 0 2.83L4 21.41c.39.39.9.59 1.41.59.51 0 1.02-.2 1.41-.59l7.78-7.78 2.81-2.81c.8-.78.8-2.07 0-2.86zM5.41 20L4 18.59l7.72-7.72 1.47 1.35L5.41 20z\"/>\n",
              "  </svg>\n",
              "      </button>\n",
              "      \n",
              "  <style>\n",
              "    .colab-df-container {\n",
              "      display:flex;\n",
              "      flex-wrap:wrap;\n",
              "      gap: 12px;\n",
              "    }\n",
              "\n",
              "    .colab-df-convert {\n",
              "      background-color: #E8F0FE;\n",
              "      border: none;\n",
              "      border-radius: 50%;\n",
              "      cursor: pointer;\n",
              "      display: none;\n",
              "      fill: #1967D2;\n",
              "      height: 32px;\n",
              "      padding: 0 0 0 0;\n",
              "      width: 32px;\n",
              "    }\n",
              "\n",
              "    .colab-df-convert:hover {\n",
              "      background-color: #E2EBFA;\n",
              "      box-shadow: 0px 1px 2px rgba(60, 64, 67, 0.3), 0px 1px 3px 1px rgba(60, 64, 67, 0.15);\n",
              "      fill: #174EA6;\n",
              "    }\n",
              "\n",
              "    [theme=dark] .colab-df-convert {\n",
              "      background-color: #3B4455;\n",
              "      fill: #D2E3FC;\n",
              "    }\n",
              "\n",
              "    [theme=dark] .colab-df-convert:hover {\n",
              "      background-color: #434B5C;\n",
              "      box-shadow: 0px 1px 3px 1px rgba(0, 0, 0, 0.15);\n",
              "      filter: drop-shadow(0px 1px 2px rgba(0, 0, 0, 0.3));\n",
              "      fill: #FFFFFF;\n",
              "    }\n",
              "  </style>\n",
              "\n",
              "      <script>\n",
              "        const buttonEl =\n",
              "          document.querySelector('#df-6bbcbd4e-82d5-4a1f-8a55-26277aad356f button.colab-df-convert');\n",
              "        buttonEl.style.display =\n",
              "          google.colab.kernel.accessAllowed ? 'block' : 'none';\n",
              "\n",
              "        async function convertToInteractive(key) {\n",
              "          const element = document.querySelector('#df-6bbcbd4e-82d5-4a1f-8a55-26277aad356f');\n",
              "          const dataTable =\n",
              "            await google.colab.kernel.invokeFunction('convertToInteractive',\n",
              "                                                     [key], {});\n",
              "          if (!dataTable) return;\n",
              "\n",
              "          const docLinkHtml = 'Like what you see? Visit the ' +\n",
              "            '<a target=\"_blank\" href=https://colab.research.google.com/notebooks/data_table.ipynb>data table notebook</a>'\n",
              "            + ' to learn more about interactive tables.';\n",
              "          element.innerHTML = '';\n",
              "          dataTable['output_type'] = 'display_data';\n",
              "          await google.colab.output.renderOutput(dataTable, element);\n",
              "          const docLink = document.createElement('div');\n",
              "          docLink.innerHTML = docLinkHtml;\n",
              "          element.appendChild(docLink);\n",
              "        }\n",
              "      </script>\n",
              "    </div>\n",
              "  </div>\n",
              "  "
            ]
          },
          "metadata": {},
          "execution_count": 52
        }
      ]
    },
    {
      "cell_type": "markdown",
      "source": [
        "# Doing it another way"
      ],
      "metadata": {
        "id": "Y9cj-zjXqGAw"
      }
    },
    {
      "cell_type": "code",
      "source": [
        "def model(x_train, y_train, x_test):\n",
        "    x_transpose = x_train.transpose()\n",
        "    xt_dot_x_inverse = np.linalg.inv(np.matmul(x_transpose, x_train))\n",
        "    theta = np.matmul(np.matmul(xt_dot_x_inverse, x_transpose), y_train)\n",
        "    prediction = np.matmul(np.matmul(x_test, np.diag(theta)), np.ones(len(theta)))\n",
        "\n",
        "    return prediction"
      ],
      "metadata": {
        "id": "t9uOBE1LqLsk"
      },
      "execution_count": 77,
      "outputs": []
    },
    {
      "cell_type": "code",
      "source": [
        "y_pred2 = model(x_train, y_train, x_test)\n",
        "r2_score(y_test, y_pred2)"
      ],
      "metadata": {
        "colab": {
          "base_uri": "https://localhost:8080/"
        },
        "id": "QRWbCYRexi88",
        "outputId": "c2559549-0fd2-4419-d9e6-9771644e6c60"
      },
      "execution_count": 83,
      "outputs": [
        {
          "output_type": "execute_result",
          "data": {
            "text/plain": [
              "0.5031719180808161"
            ]
          },
          "metadata": {},
          "execution_count": 83
        }
      ]
    },
    {
      "cell_type": "code",
      "source": [
        "import matplotlib.pyplot as plt\n",
        "plt.figure(figsize=(10,7))\n",
        "plt.scatter(y_test, y_pred2)\n",
        "plt.plot([0,4e9],[0,4e9], color = 'red')\n",
        "plt.xlabel('Actual')\n",
        "plt.ylabel('Predicted')\n",
        "plt.title('Actual vs. Predicted')"
      ],
      "metadata": {
        "colab": {
          "base_uri": "https://localhost:8080/",
          "height": 475
        },
        "id": "9_I6wvln138Y",
        "outputId": "ac089e9e-29ec-4d08-c0d1-52eec30ba02e"
      },
      "execution_count": 98,
      "outputs": [
        {
          "output_type": "execute_result",
          "data": {
            "text/plain": [
              "Text(0.5, 1.0, 'Actual vs. Predicted')"
            ]
          },
          "metadata": {},
          "execution_count": 98
        },
        {
          "output_type": "display_data",
          "data": {
            "text/plain": [
              "<Figure size 720x504 with 1 Axes>"
            ],
            "image/png": "[encoded data removed]"
          },
          "metadata": {
            "needs_background": "light"
          }
        }
      ]
    }
  ]
}